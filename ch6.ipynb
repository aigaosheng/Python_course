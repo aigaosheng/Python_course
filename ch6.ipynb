{
 "cells": [
  {
   "cell_type": "code",
   "execution_count": 23,
   "metadata": {},
   "outputs": [
    {
     "name": "stdout",
     "output_type": "stream",
     "text": [
      "11\n",
      "x=2 y=2.0 s=['hello', 'world']\n"
     ]
    }
   ],
   "source": [
    "x=2\n",
    "y=2.\n",
    "s='hello world'\n",
    "s2=['hello', 'world']\n",
    "print(len(s))\n",
    "#print('x=%d y=%f s=%s' % (x,y, s))\n",
    "\n",
    "print('x={} y={} s={}'.format(x, y, s2))\n"
   ]
  },
  {
   "cell_type": "code",
   "execution_count": null,
   "metadata": {},
   "outputs": [],
   "source": []
  },
  {
   "cell_type": "code",
   "execution_count": 9,
   "metadata": {},
   "outputs": [
    {
     "data": {
      "text/plain": [
       "['__add__',\n",
       " '__class__',\n",
       " '__contains__',\n",
       " '__delattr__',\n",
       " '__dir__',\n",
       " '__doc__',\n",
       " '__eq__',\n",
       " '__format__',\n",
       " '__ge__',\n",
       " '__getattribute__',\n",
       " '__getitem__',\n",
       " '__getnewargs__',\n",
       " '__gt__',\n",
       " '__hash__',\n",
       " '__init__',\n",
       " '__init_subclass__',\n",
       " '__iter__',\n",
       " '__le__',\n",
       " '__len__',\n",
       " '__lt__',\n",
       " '__mod__',\n",
       " '__mul__',\n",
       " '__ne__',\n",
       " '__new__',\n",
       " '__reduce__',\n",
       " '__reduce_ex__',\n",
       " '__repr__',\n",
       " '__rmod__',\n",
       " '__rmul__',\n",
       " '__setattr__',\n",
       " '__sizeof__',\n",
       " '__str__',\n",
       " '__subclasshook__',\n",
       " 'capitalize',\n",
       " 'casefold',\n",
       " 'center',\n",
       " 'count',\n",
       " 'encode',\n",
       " 'endswith',\n",
       " 'expandtabs',\n",
       " 'find',\n",
       " 'format',\n",
       " 'format_map',\n",
       " 'index',\n",
       " 'isalnum',\n",
       " 'isalpha',\n",
       " 'isascii',\n",
       " 'isdecimal',\n",
       " 'isdigit',\n",
       " 'isidentifier',\n",
       " 'islower',\n",
       " 'isnumeric',\n",
       " 'isprintable',\n",
       " 'isspace',\n",
       " 'istitle',\n",
       " 'isupper',\n",
       " 'join',\n",
       " 'ljust',\n",
       " 'lower',\n",
       " 'lstrip',\n",
       " 'maketrans',\n",
       " 'partition',\n",
       " 'replace',\n",
       " 'rfind',\n",
       " 'rindex',\n",
       " 'rjust',\n",
       " 'rpartition',\n",
       " 'rsplit',\n",
       " 'rstrip',\n",
       " 'split',\n",
       " 'splitlines',\n",
       " 'startswith',\n",
       " 'strip',\n",
       " 'swapcase',\n",
       " 'title',\n",
       " 'translate',\n",
       " 'upper',\n",
       " 'zfill']"
      ]
     },
     "execution_count": 9,
     "metadata": {},
     "output_type": "execute_result"
    }
   ],
   "source": [
    "type(x)\n",
    "type(y)\n",
    "type(s)\n",
    "dir(s)"
   ]
  },
  {
   "cell_type": "code",
   "execution_count": 31,
   "metadata": {},
   "outputs": [
    {
     "ename": "TypeError",
     "evalue": "'tuple' object does not support item assignment",
     "output_type": "error",
     "traceback": [
      "\u001b[1;31m---------------------------------------------------------------------------\u001b[0m",
      "\u001b[1;31mTypeError\u001b[0m                                 Traceback (most recent call last)",
      "\u001b[1;32m<ipython-input-31-1827966f7a55>\u001b[0m in \u001b[0;36m<module>\u001b[1;34m\u001b[0m\n\u001b[0;32m      1\u001b[0m \u001b[0my0\u001b[0m\u001b[1;33m=\u001b[0m\u001b[1;33m(\u001b[0m\u001b[1;36m2\u001b[0m\u001b[1;33m,\u001b[0m\u001b[1;36m3\u001b[0m\u001b[1;33m)\u001b[0m\u001b[1;33m\u001b[0m\u001b[1;33m\u001b[0m\u001b[0m\n\u001b[0;32m      2\u001b[0m \u001b[0my1\u001b[0m\u001b[1;33m=\u001b[0m\u001b[1;33m[\u001b[0m\u001b[1;36m2\u001b[0m\u001b[1;33m,\u001b[0m\u001b[1;36m3\u001b[0m\u001b[1;33m]\u001b[0m\u001b[1;33m\u001b[0m\u001b[1;33m\u001b[0m\u001b[0m\n\u001b[1;32m----> 3\u001b[1;33m \u001b[0my0\u001b[0m\u001b[1;33m[\u001b[0m\u001b[1;36m0\u001b[0m\u001b[1;33m]\u001b[0m\u001b[1;33m=\u001b[0m\u001b[1;36m1\u001b[0m\u001b[1;33m\u001b[0m\u001b[1;33m\u001b[0m\u001b[0m\n\u001b[0m\u001b[0;32m      4\u001b[0m '''try:\n\u001b[0;32m      5\u001b[0m     \u001b[0my0\u001b[0m\u001b[1;33m[\u001b[0m\u001b[1;36m0\u001b[0m\u001b[1;33m]\u001b[0m\u001b[1;33m=\u001b[0m\u001b[1;36m1\u001b[0m\u001b[1;33m\u001b[0m\u001b[1;33m\u001b[0m\u001b[0m\n",
      "\u001b[1;31mTypeError\u001b[0m: 'tuple' object does not support item assignment"
     ]
    }
   ],
   "source": [
    "y0=(2,3)\n",
    "y1=[2,3]\n",
    "y0[0]=1\n",
    "try:\n",
    "    y0[0]=1\n",
    "except Exception as e:\n",
    "    print('{} {}'.format(e, 'value in tuple cannot be changed'))\n",
    "    pass\n",
    "\n",
    "y1.append(4)\n",
    "print('{}'.format(y1))"
   ]
  },
  {
   "cell_type": "code",
   "execution_count": 9,
   "metadata": {},
   "outputs": [
    {
     "name": "stdout",
     "output_type": "stream",
     "text": [
      "keys: dict_keys(['python', 'age', 'course']), value: dict_values(['v3.7', 12, ['python', 'c++']]), key-value-pair: dict_items([('python', 'v3.7'), ('age', 12), ('course', ['python', 'c++'])])\n"
     ]
    }
   ],
   "source": [
    "d0={'python': 'v3.7', 'age': 12, 'course': ['python', 'c++']}\n",
    "python = 'python'\n",
    "d0[python]\n",
    "#get all keys, values, pair\n",
    "print('keys: {}, value: {}, key-value-pair: {}'.format(d0.keys(), d0.values(), d0.items()))\n",
    "d0['age'] = 20\n"
   ]
  },
  {
   "cell_type": "code",
   "execution_count": 13,
   "metadata": {},
   "outputs": [
    {
     "name": "stdout",
     "output_type": "stream",
     "text": [
      "python\n",
      "v3.7\n",
      "age\n",
      "20\n",
      "course\n",
      "['python', 'c++']\n",
      "{'python': 'v3.7', 'age': 20, 'course': ['python', 'c++']}\n"
     ]
    }
   ],
   "source": [
    "for item in d0.items():\n",
    "    if item[0] == 'age':\n",
    "        d0[item[0]] = 20\n",
    "    print(item[0])\n",
    "    print(item[1])\n",
    "\n",
    "print(d0)\n",
    "    "
   ]
  },
  {
   "cell_type": "code",
   "execution_count": 17,
   "metadata": {},
   "outputs": [
    {
     "name": "stdout",
     "output_type": "stream",
     "text": [
      "{1, 2, 3, 5, '5'}\n",
      "True\n"
     ]
    }
   ],
   "source": [
    "x=[1,2,3,5,5,'5']\n",
    "st = set(x)\n",
    "print(st)\n",
    "ret = '5' in st\n",
    "print(ret)"
   ]
  },
  {
   "cell_type": "code",
   "execution_count": 31,
   "metadata": {},
   "outputs": [
    {
     "name": "stdout",
     "output_type": "stream",
     "text": [
      "1 False\n",
      "2 True\n",
      "3 True\n",
      "4 False\n",
      "5 True\n",
      "6 False\n",
      "7 True\n"
     ]
    }
   ],
   "source": [
    "x=[2,3,4]\n",
    "s=set(['a','b','cc'])\n",
    "d1=dict([('a',1), ('b',2), ('c','python')])\n",
    "\n",
    "print('1 {}'.format(5 in x))\n",
    "print('2 {}'.format(2 in x))\n",
    "print('3 {}'.format('a' in s))\n",
    "print('4 {}'.format('dd' in s))\n",
    "\n",
    "dk = 'c'\n",
    "print('5 {}'.format(dk in d1))\n",
    "\n",
    "y='dd' in d1\n",
    "print('6 {}'.format(y))\n",
    "\n",
    "print('7 {}'.format('dd' not in d1))"
   ]
  },
  {
   "cell_type": "code",
   "execution_count": 35,
   "metadata": {},
   "outputs": [
    {
     "name": "stdout",
     "output_type": "stream",
     "text": [
      "True\n",
      "False\n"
     ]
    }
   ],
   "source": [
    "x=2\n",
    "y=2\n",
    "print(x is y)\n",
    "z=2.\n",
    "print(x is z)"
   ]
  },
  {
   "cell_type": "code",
   "execution_count": 43,
   "metadata": {},
   "outputs": [
    {
     "name": "stdout",
     "output_type": "stream",
     "text": [
      "input: 1,2,3,100\n",
      "sum: 106\n"
     ]
    }
   ],
   "source": [
    "s=input('input: ')\n",
    "v=s.split(',')\n",
    "v1=map(lambda x:int(x), v)\n",
    "#print(v)\n",
    "#print(list(v1))\n",
    "\n",
    "sinit = 0\n",
    "for d in v1:\n",
    "    sinit += d\n",
    "print('sum: {}'.format(sinit))"
   ]
  },
  {
   "cell_type": "code",
   "execution_count": 50,
   "metadata": {},
   "outputs": [
    {
     "name": "stdout",
     "output_type": "stream",
     "text": [
      "str\n",
      "{'g': 2, 'go': 1, 'to': 1}\n"
     ]
    }
   ],
   "source": [
    "s = 'g g go to'\n",
    "print('STR'.lower())\n",
    "o = {'g': 2, 'go': 1, 'to': 1}\n",
    "\n",
    "s1 = s.split(' ')\n",
    "\n",
    "d2={}\n",
    "for vv in s1:\n",
    "    if vv in d2:\n",
    "        d2[vv] += 1\n",
    "    else:\n",
    "        d2[vv] = 1\n",
    "    \n",
    "print(d2)\n",
    "\n"
   ]
  }
 ],
 "metadata": {
  "kernelspec": {
   "display_name": "Python 3",
   "language": "python",
   "name": "python3"
  },
  "language_info": {
   "codemirror_mode": {
    "name": "ipython",
    "version": 3
   },
   "file_extension": ".py",
   "mimetype": "text/x-python",
   "name": "python",
   "nbconvert_exporter": "python",
   "pygments_lexer": "ipython3",
   "version": "3.7.3"
  }
 },
 "nbformat": 4,
 "nbformat_minor": 2
}
