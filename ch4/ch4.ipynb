{
 "cells": [
  {
   "cell_type": "code",
   "execution_count": 2,
   "metadata": {},
   "outputs": [
    {
     "name": "stdout",
     "output_type": "stream",
     "text": [
      "[(0, 'a'), (1, 'b'), (2, 'c')]\n"
     ]
    }
   ],
   "source": [
    "a=['a','b','c']\n",
    "b=enumerate(a)\n",
    "print(list(b))"
   ]
  },
  {
   "cell_type": "code",
   "execution_count": 6,
   "metadata": {},
   "outputs": [
    {
     "ename": "TypeError",
     "evalue": "can only concatenate str (not \"int\") to str",
     "output_type": "error",
     "traceback": [
      "\u001b[1;31m---------------------------------------------------------------------------\u001b[0m",
      "\u001b[1;31mTypeError\u001b[0m                                 Traceback (most recent call last)",
      "\u001b[1;32m<ipython-input-6-0446edb8f990>\u001b[0m in \u001b[0;36m<module>\u001b[1;34m\u001b[0m\n\u001b[0;32m      2\u001b[0m \u001b[0md\u001b[0m\u001b[1;33m=\u001b[0m\u001b[0mint\u001b[0m\u001b[1;33m(\u001b[0m\u001b[0md\u001b[0m\u001b[1;33m)\u001b[0m\u001b[1;33m\u001b[0m\u001b[1;33m\u001b[0m\u001b[0m\n\u001b[0;32m      3\u001b[0m \u001b[1;31m#print(d+100)\u001b[0m\u001b[1;33m\u001b[0m\u001b[1;33m\u001b[0m\u001b[1;33m\u001b[0m\u001b[0m\n\u001b[1;32m----> 4\u001b[1;33m \u001b[0mprint\u001b[0m\u001b[1;33m(\u001b[0m\u001b[0md1\u001b[0m\u001b[1;33m+\u001b[0m\u001b[1;36m100\u001b[0m\u001b[1;33m)\u001b[0m\u001b[1;33m\u001b[0m\u001b[1;33m\u001b[0m\u001b[0m\n\u001b[0m",
      "\u001b[1;31mTypeError\u001b[0m: can only concatenate str (not \"int\") to str"
     ]
    }
   ],
   "source": [
    "d1 = '12345'\n",
    "d=int(d)\n",
    "print(d+100)\n",
    "print(d1+100)"
   ]
  },
  {
   "cell_type": "code",
   "execution_count": null,
   "metadata": {},
   "outputs": [],
   "source": []
  },
  {
   "cell_type": "code",
   "execution_count": 3,
   "metadata": {},
   "outputs": [
    {
     "name": "stdout",
     "output_type": "stream",
     "text": [
      "[[0, 'a'], [1, 'b'], [2, 'c']]\n"
     ]
    }
   ],
   "source": [
    "count = 0\n",
    "b=[]\n",
    "for x in a:\n",
    "    b.append([count,x])\n",
    "    count += 1\n",
    "print(b)"
   ]
  },
  {
   "cell_type": "code",
   "execution_count": 11,
   "metadata": {},
   "outputs": [
    {
     "name": "stdout",
     "output_type": "stream",
     "text": [
      "12344a\n",
      "[1, 2, 3]a\n"
     ]
    }
   ],
   "source": [
    "a1=12344\n",
    "a2=[1,2,3]\n",
    "print(str(a1) + 'a')\n",
    "print(str(a2) + 'a')"
   ]
  },
  {
   "cell_type": "code",
   "execution_count": 17,
   "metadata": {},
   "outputs": [
    {
     "name": "stdout",
     "output_type": "stream",
     "text": [
      "12\n",
      "None\n",
      "not_found\n",
      "100\n"
     ]
    }
   ],
   "source": [
    "dc={'g': 12, 's': 'stu', 'home': '2019 hello'}\n",
    "dc1=dc.get('g')\n",
    "print(dc1)\n",
    "dc2=dc.get('gg')\n",
    "print(dc2)\n",
    "dc3=dc.get('gg','not_found')\n",
    "print(dc3)\n",
    "try:\n",
    "    dc4=dc['gg']\n",
    "except:\n",
    "    dc['gg'] = 100\n",
    "print(dc['gg'])"
   ]
  },
  {
   "cell_type": "code",
   "execution_count": 18,
   "metadata": {},
   "outputs": [
    {
     "name": "stdout",
     "output_type": "stream",
     "text": [
      "{1: 11, 2: 22}\n"
     ]
    }
   ],
   "source": [
    "L1=[(1,11),(2,22)]\n",
    "L1a=dict(L1)\n",
    "print(L1a)\n"
   ]
  },
  {
   "cell_type": "code",
   "execution_count": 19,
   "metadata": {},
   "outputs": [
    {
     "name": "stdout",
     "output_type": "stream",
     "text": [
      "{1: 11, 2: 22}\n"
     ]
    }
   ],
   "source": [
    "L2=[[1,11],[2,22]]\n",
    "L2a=dict(L2)\n",
    "print(L2a)"
   ]
  },
  {
   "cell_type": "code",
   "execution_count": 30,
   "metadata": {},
   "outputs": [
    {
     "name": "stdout",
     "output_type": "stream",
     "text": [
      "{'g': 12, 's': 'stu', 'home': '2019 hello', 'gg': 100}\n",
      "g 12\n",
      "s stu\n",
      "home 2019 hello\n",
      "gg 100\n",
      "dict_keys(['g', 's', 'home', 'gg'])\n",
      "dict_values([12, 'stu', '2019 hello', 100])\n"
     ]
    }
   ],
   "source": [
    "print(dc)\n",
    "r0=dc.items()\n",
    "for k, y in r0:\n",
    "    print('%s %s' %(k,y))\n",
    "r1=dc.keys()\n",
    "print(r1)\n",
    "r2=dc.values()\n",
    "print(r2)"
   ]
  },
  {
   "cell_type": "code",
   "execution_count": 42,
   "metadata": {},
   "outputs": [
    {
     "name": "stdout",
     "output_type": "stream",
     "text": [
      "{'g': 12, 's': 'stu', 'home': '2019 hello', 'gg': 100, 'g100': 1000}\n"
     ]
    },
    {
     "data": {
      "text/plain": [
       "['__class__',\n",
       " '__contains__',\n",
       " '__delattr__',\n",
       " '__delitem__',\n",
       " '__dir__',\n",
       " '__doc__',\n",
       " '__eq__',\n",
       " '__format__',\n",
       " '__ge__',\n",
       " '__getattribute__',\n",
       " '__getitem__',\n",
       " '__gt__',\n",
       " '__hash__',\n",
       " '__init__',\n",
       " '__init_subclass__',\n",
       " '__iter__',\n",
       " '__le__',\n",
       " '__len__',\n",
       " '__lt__',\n",
       " '__ne__',\n",
       " '__new__',\n",
       " '__reduce__',\n",
       " '__reduce_ex__',\n",
       " '__repr__',\n",
       " '__setattr__',\n",
       " '__setitem__',\n",
       " '__sizeof__',\n",
       " '__str__',\n",
       " '__subclasshook__',\n",
       " 'clear',\n",
       " 'copy',\n",
       " 'fromkeys',\n",
       " 'get',\n",
       " 'items',\n",
       " 'keys',\n",
       " 'pop',\n",
       " 'popitem',\n",
       " 'setdefault',\n",
       " 'update',\n",
       " 'values']"
      ]
     },
     "execution_count": 42,
     "metadata": {},
     "output_type": "execute_result"
    }
   ],
   "source": [
    "v=('g100',1000)\n",
    "dir(dc)\n",
    "if v[0] in dc:\n",
    "    pass\n",
    "else:\n",
    "    dc[v[0]] = v[1]\n",
    "print(dc)\n",
    "dir(dc)\n"
   ]
  },
  {
   "cell_type": "code",
   "execution_count": 48,
   "metadata": {},
   "outputs": [
    {
     "name": "stdout",
     "output_type": "stream",
     "text": [
      "{'s': 'stu', 'home': '2019 hello', 'g100': 1000}\n",
      "100\n"
     ]
    }
   ],
   "source": [
    "print(dc)\n",
    "#v=dc.pop('gg')\n",
    "print(v)\n"
   ]
  },
  {
   "cell_type": "code",
   "execution_count": 56,
   "metadata": {},
   "outputs": [
    {
     "name": "stdout",
     "output_type": "stream",
     "text": [
      "input name & age: b, 13\n",
      "b, 13\n",
      "b *  13\n",
      "13\n",
      "{'s': 'stu', 'home': '2019 hello', 'g100': 1000, 'gsw': 13, 'b': 13}\n"
     ]
    }
   ],
   "source": [
    "s=input('input name & age: ')\n",
    "name, age=s.split(',')\n",
    "age2 = int(age)\n",
    "dc[name]=age2\n",
    "print(s)\n",
    "print(name + ' * ' + age)\n",
    "print(age2)\n",
    "print(dc)"
   ]
  },
  {
   "cell_type": "code",
   "execution_count": 52,
   "metadata": {},
   "outputs": [
    {
     "name": "stdout",
     "output_type": "stream",
     "text": [
      "[('e', 9), ('a', 11), ('g', 12)]\n"
     ]
    }
   ],
   "source": [
    "dd={'g': 12, 'a': 11, 'e': 9}\n",
    "dd2=sorted(dd.items(), key=lambda x: x[1])\n",
    "print(dd2)"
   ]
  },
  {
   "cell_type": "code",
   "execution_count": 5,
   "metadata": {},
   "outputs": [
    {
     "name": "stdout",
     "output_type": "stream",
     "text": [
      "Input name and age seperated by a commaf,43\n",
      "Input name and age seperated by a commag,34\n",
      "Input name and age seperated by a commad,123\n",
      "Input name and age seperated by a commastop\n",
      "[('g', 34), ('f', 43), ('d', 123)]\n"
     ]
    }
   ],
   "source": [
    "data={}\n",
    "\n",
    "while True:\n",
    "    data2=input(\"Input name and age seperated by a comma\")\n",
    "    if data2=='stop':\n",
    "        break\n",
    "    name, age=data2.split(',')\n",
    "    age2=int(age)\n",
    "    data[name]=age2\n",
    "    \n",
    "data3=sorted(data.items(), key=lambda x: x[1])\n",
    "print(data3)    \n",
    "\n"
   ]
  },
  {
   "cell_type": "code",
   "execution_count": null,
   "metadata": {},
   "outputs": [],
   "source": []
  },
  {
   "cell_type": "code",
   "execution_count": null,
   "metadata": {},
   "outputs": [],
   "source": []
  }
 ],
 "metadata": {
  "kernelspec": {
   "display_name": "Python 3",
   "language": "python",
   "name": "python3"
  }
 },
 "nbformat": 4,
 "nbformat_minor": 2
}
