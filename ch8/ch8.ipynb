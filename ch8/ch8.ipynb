{
 "cells": [
  {
   "cell_type": "code",
   "execution_count": 2,
   "metadata": {},
   "outputs": [
    {
     "name": "stdout",
     "output_type": "stream",
     "text": [
      "4.0\n"
     ]
    }
   ],
   "source": [
    "v = [1, 2, 3, 10]\n",
    "def average(v):\n",
    "    s = sum(v)\n",
    "    avg = s/len(v)\n",
    "    return avg\n",
    "\n",
    "print(average(v))\n"
   ]
  },
  {
   "cell_type": "code",
   "execution_count": 11,
   "metadata": {},
   "outputs": [
    {
     "name": "stdout",
     "output_type": "stream",
     "text": [
      "True\n",
      "False\n"
     ]
    }
   ],
   "source": [
    "def is_even(v):\n",
    "    '''\n",
    "    validate input is even or odd\n",
    "    \n",
    "    return: \n",
    "        True: even\n",
    "        False: odd\n",
    "    '''\n",
    "    if v%2 == 0:\n",
    "        return True\n",
    "    else:\n",
    "        return False\n",
    "    \n",
    "#test\n",
    "print(is_even(10))\n",
    "print(is_even(11))"
   ]
  },
  {
   "cell_type": "code",
   "execution_count": 13,
   "metadata": {},
   "outputs": [
    {
     "name": "stdout",
     "output_type": "stream",
     "text": [
      "hello world\n",
      "hhaha\n"
     ]
    }
   ],
   "source": [
    "def hello():\n",
    "    print('hello world')\n",
    "\n",
    "def helloMsg(msg):\n",
    "    print(msg)\n",
    "    \n",
    "def ff2_v0(x, y):\n",
    "    return x + ' ' + y\n",
    "\n",
    "#call\n",
    "hello()\n",
    "helloMsg('hhaha')"
   ]
  },
  {
   "cell_type": "code",
   "execution_count": 14,
   "metadata": {},
   "outputs": [
    {
     "name": "stdout",
     "output_type": "stream",
     "text": [
      "ha\n"
     ]
    }
   ],
   "source": [
    "ff = helloMsg\n",
    "ff('ha')"
   ]
  },
  {
   "cell_type": "code",
   "execution_count": 19,
   "metadata": {},
   "outputs": [
    {
     "name": "stdout",
     "output_type": "stream",
     "text": [
      "5\n"
     ]
    }
   ],
   "source": [
    "x = 3\n",
    "y = x*2 if x%2==0 else x + 2\n",
    "print(y)"
   ]
  },
  {
   "cell_type": "code",
   "execution_count": null,
   "metadata": {},
   "outputs": [],
   "source": [
    "if x%2==0:\n",
    "    y=x*2\n",
    "else:\n",
    "    y=x+2"
   ]
  },
  {
   "cell_type": "code",
   "execution_count": 23,
   "metadata": {},
   "outputs": [
    {
     "data": {
      "text/plain": [
       "'hello world'"
      ]
     },
     "execution_count": 23,
     "metadata": {},
     "output_type": "execute_result"
    }
   ],
   "source": [
    "ff2 = lambda x, y: x + ' ' + y\n",
    "x = 3\n",
    "ff2('hello', 'world') if x==3 else ff2('not', '3')"
   ]
  },
  {
   "cell_type": "code",
   "execution_count": 27,
   "metadata": {},
   "outputs": [
    {
     "name": "stdout",
     "output_type": "stream",
     "text": [
      "2.2\n",
      "2.4\n"
     ]
    }
   ],
   "source": [
    "class myMath:\n",
    "    def __init__(self, v):\n",
    "        self.class_version = v\n",
    "        \n",
    "    def add(self,x,y):\n",
    "        return x + y\n",
    "    def mul(self,x,y):\n",
    "        return x * y\n",
    "    \n",
    "#call\n",
    "m = myMath('v1.0')\n",
    "ma = m.add(1.2, 1)\n",
    "mm = m.mul(1.2, 2)\n",
    "print(ma)\n",
    "print(mm)"
   ]
  }
 ],
 "metadata": {
  "kernelspec": {
   "display_name": "Python 3",
   "language": "python",
   "name": "python3"
  },
  "language_info": {
   "codemirror_mode": {
    "name": "ipython",
    "version": 3
   },
   "file_extension": ".py",
   "mimetype": "text/x-python",
   "name": "python",
   "nbconvert_exporter": "python",
   "pygments_lexer": "ipython3",
   "version": "3.7.3"
  }
 },
 "nbformat": 4,
 "nbformat_minor": 2
}
