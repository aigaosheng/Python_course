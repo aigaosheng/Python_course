{
 "cells": [
  {
   "cell_type": "code",
   "execution_count": 2,
   "metadata": {},
   "outputs": [
    {
     "name": "stdout",
     "output_type": "stream",
     "text": [
      "[(0, 'a'), (1, 'b'), (2, 'c')]\n"
     ]
    }
   ],
   "source": [
    "x = ['a', 'b', 'c']\n",
    "pos = 0\n",
    "for v in x:\n",
    "    pos += 1\n",
    "    \n",
    "y = enumerate(x)\n",
    "\n",
    "print(list(y))"
   ]
  },
  {
   "cell_type": "code",
   "execution_count": null,
   "metadata": {},
   "outputs": [],
   "source": []
  },
  {
   "cell_type": "code",
   "execution_count": 3,
   "metadata": {},
   "outputs": [
    {
     "name": "stdout",
     "output_type": "stream",
     "text": [
      "[0, 1, 2, 3, 4, 5, 6, 7, 8, 9]\n"
     ]
    }
   ],
   "source": [
    "start = 0\n",
    "end = 10\n",
    "step = 1\n",
    "d = range(start, end, step)\n",
    "print(list(d))\n"
   ]
  },
  {
   "cell_type": "code",
   "execution_count": 18,
   "metadata": {},
   "outputs": [
    {
     "name": "stdout",
     "output_type": "stream",
     "text": [
      "[('a', 100, 'aa'), ('b', 200, 'bb'), ('c', 300, 'cc')]\n",
      "** a, 100, aa\n",
      "** b, 200, bb\n",
      "** c, 300, cc\n"
     ]
    }
   ],
   "source": [
    "x0 = ['a', 'b', 'c']\n",
    "x1 = [100, 200, 300]\n",
    "x2 = ['aa', 'bb', 'cc']\n",
    "y = list(zip(x0, x1, x2))\n",
    "print(y)\n",
    "\n",
    "for v in y:\n",
    "    a, b, c = v\n",
    "    print('** {}, {}, {}'.format(a, b, c))"
   ]
  },
  {
   "cell_type": "code",
   "execution_count": 29,
   "metadata": {},
   "outputs": [
    {
     "name": "stdout",
     "output_type": "stream",
     "text": [
      "['100', '200', '300']\n",
      "** ['100', '200', '300']\n",
      "dict_items([('a', 1), ('b', 2)])\n",
      "['a1', 'b2']\n"
     ]
    }
   ],
   "source": [
    "x = [100, 200, 300]\n",
    "#['100', '200', '300']\n",
    "def int2str(v):\n",
    "    return str(v)\n",
    "\n",
    "y = map(int2str, x)\n",
    "y1 = list(y)\n",
    "print(y1)\n",
    "\n",
    "ya = map(lambda x: str(x), x)\n",
    "ya1 = list(ya)\n",
    "print('** {}'.format(ya1))\n",
    "\n",
    "d = {'a': 1, 'b': 2}\n",
    "print(d.items())\n",
    "yd = map(lambda x: x[0] + str(x[1]), d.items())\n",
    "yd1 = list(yd)\n",
    "print(yd1)"
   ]
  },
  {
   "cell_type": "code",
   "execution_count": 31,
   "metadata": {},
   "outputs": [
    {
     "name": "stdout",
     "output_type": "stream",
     "text": [
      "[2, 5]\n"
     ]
    }
   ],
   "source": [
    "x = [-1, 2, -3, 5]\n",
    "y = filter(lambda x: x > 0, x)\n",
    "y1 = list(y)\n",
    "print(y1)"
   ]
  },
  {
   "cell_type": "code",
   "execution_count": 39,
   "metadata": {},
   "outputs": [
    {
     "name": "stdout",
     "output_type": "stream",
     "text": [
      "3\n",
      "*-12-35\n"
     ]
    }
   ],
   "source": [
    "import functools\n",
    "x = [-1, 2, -3, 5]\n",
    "y = functools.reduce(lambda x, y: x + y, x)\n",
    "print(y)\n",
    "\n",
    "\n",
    "y1 = functools.reduce(lambda x, y: str(x) + str(y), x, '*')\n",
    "print(y1)\n"
   ]
  },
  {
   "cell_type": "code",
   "execution_count": 44,
   "metadata": {},
   "outputs": [
    {
     "name": "stdout",
     "output_type": "stream",
     "text": [
      "[-1, 2, -3, 5]\n",
      "[5, 2, -1, -3]\n"
     ]
    }
   ],
   "source": [
    "print(x)\n",
    "y = sorted(x, reverse = True)\n",
    "print(y)"
   ]
  },
  {
   "cell_type": "code",
   "execution_count": 47,
   "metadata": {},
   "outputs": [
    {
     "name": "stdout",
     "output_type": "stream",
     "text": [
      "max = 5, min = -3, sum = 3\n"
     ]
    }
   ],
   "source": [
    "mx = max(x)\n",
    "mi = min(x)\n",
    "s = sum(x)\n",
    "print('max = {}, min = {}, sum = {}'.format(mx, mi, s))"
   ]
  },
  {
   "cell_type": "code",
   "execution_count": 49,
   "metadata": {},
   "outputs": [
    {
     "name": "stdout",
     "output_type": "stream",
     "text": [
      "[-1, 2, -3, 5]\n",
      "[5, -3, 2, -1]\n"
     ]
    }
   ],
   "source": [
    "print(x)\n",
    "print(list(reversed(x)))"
   ]
  },
  {
   "cell_type": "code",
   "execution_count": 64,
   "metadata": {},
   "outputs": [
    {
     "name": "stdout",
     "output_type": "stream",
     "text": [
      "[[-1, 2, -3, 5], 3, 'hello']\n"
     ]
    }
   ],
   "source": [
    "import pickle\n",
    "\n",
    "x = [-1, 2, -3, 5]\n",
    "y = sum(x)\n",
    "z = 'hello'\n",
    "\n",
    "file_name = 'test_pkl.pkl'\n",
    "with open(file_name, 'wb') as i_fin:\n",
    "    pickle.dump([x,y,z], i_fin)\n",
    "    \n",
    "with open(file_name, 'rb') as i_fin2:\n",
    "    zz = pickle.load(i_fin2)\n",
    "    print(zz)\n",
    "    #print('**  '.format(zz))\n",
    "    "
   ]
  }
 ],
 "metadata": {
  "kernelspec": {
   "display_name": "Python 3",
   "language": "python",
   "name": "python3"
  },
  "language_info": {
   "codemirror_mode": {
    "name": "ipython",
    "version": 3
   },
   "file_extension": ".py",
   "mimetype": "text/x-python",
   "name": "python",
   "nbconvert_exporter": "python",
   "pygments_lexer": "ipython3",
   "version": "3.7.3"
  }
 },
 "nbformat": 4,
 "nbformat_minor": 2
}
