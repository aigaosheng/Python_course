{
 "cells": [
  {
   "cell_type": "code",
   "execution_count": 2,
   "metadata": {},
   "outputs": [],
   "source": [
    "file_name_csv = 'tsv_example.csv' #delimiter: comma\n",
    "file_name_tsv = 'tsv_example.tsv' #delimiter: tab"
   ]
  },
  {
   "cell_type": "code",
   "execution_count": 3,
   "metadata": {},
   "outputs": [
    {
     "name": "stdout",
     "output_type": "stream",
     "text": [
      "姓名,班级,CCA,Age\n",
      "\n",
      "Jack,1A,Drama,12\n",
      "\n",
      "Mike,2A,Basketball,11\n",
      "\n",
      "Tom,1A,演讲,13\n"
     ]
    }
   ],
   "source": [
    "#read data into list row-by-row\n",
    "ln_csv = []\n",
    "with open(file_name_csv, 'r', encoding = 'utf8') as i_csv:\n",
    "    for ln in i_csv:\n",
    "        print(ln)\n",
    "        ln_csv.append(ln)"
   ]
  },
  {
   "cell_type": "code",
   "execution_count": 4,
   "metadata": {},
   "outputs": [
    {
     "name": "stdout",
     "output_type": "stream",
     "text": [
      "姓名\t班级\tCCA\tAge\n",
      "\n",
      "Jack\t1A\tDrama\t12\n",
      "\n",
      "Mike\t2A\tBasketball\t11\n",
      "\n",
      "Tom\t1A\t演讲\t13\n"
     ]
    }
   ],
   "source": [
    "#read data into list row-by-row\n",
    "ln_tsv = []\n",
    "with open(file_name_tsv, 'r', encoding = 'utf8') as i_tsv:\n",
    "    for ln in i_tsv:\n",
    "        print(ln)\n",
    "        ln_tsv.append(ln)"
   ]
  },
  {
   "cell_type": "code",
   "execution_count": 5,
   "metadata": {},
   "outputs": [
    {
     "name": "stdout",
     "output_type": "stream",
     "text": [
      "\n",
      "comma delimiter: \n",
      "['姓名,班级,CCA,Age\\n', 'Jack,1A,Drama,12\\n', 'Mike,2A,Basketball,11\\n', 'Tom,1A,演讲,13']  ['姓名,班级,CCA,Age\\n', 'Jack,1A,Drama,12\\n', 'Mike,2A,Basketball,11\\n', 'Tom,1A,演讲,13']\n",
      "\n",
      "\n",
      "tab delimiter:\n",
      " ['姓名\\t班级\\tCCA\\tAge\\n', 'Jack\\t1A\\tDrama\\t12\\n', 'Mike\\t2A\\tBasketball\\t11\\n', 'Tom\\t1A\\t演讲\\t13']\n"
     ]
    }
   ],
   "source": [
    "#Find different format between comma & tab\n",
    "print('\\ncomma delimiter: \\n{}  {}'.format(ln_csv, ln_csv))\n",
    "print('\\n\\ntab delimiter:\\n {}'.format(ln_tsv))"
   ]
  },
  {
   "cell_type": "code",
   "execution_count": 7,
   "metadata": {},
   "outputs": [
    {
     "name": "stdout",
     "output_type": "stream",
     "text": [
      "['姓名', '班级', 'CCA', 'Age']\n",
      "{'姓名': [], '班级': [], 'CCA': [], 'Age': []}\n",
      "{'姓名': ['Jack', 'Mike', 'Tom'], '班级': ['1A', '2A', '1A'], 'CCA': ['Drama', 'Basketball', '演讲'], 'Age': ['12', '11', '13']}\n",
      "Field name: 姓名, Field value: Jack Mike Tom\n",
      "Field name: 班级, Field value: 1A 2A 1A\n",
      "Field name: CCA, Field value: Drama Basketball 演讲\n",
      "Field name: Age, Field value: 12 11 13\n"
     ]
    }
   ],
   "source": [
    "#pass data into dictionary\n",
    "#key: column names, values: column data\n",
    "#e.g. '姓名': ['Jack', 'Mike', 'Tom']\n",
    "\n",
    "col_name = ln_csv[0].strip('\\n').split(',')\n",
    "print(col_name)\n",
    "stu_info = dict(map(lambda x:(x, []), col_name))\n",
    "print(stu_info)\n",
    "\n",
    "#parse data \n",
    "for row_data in ln_csv[1:]:\n",
    "    data = row_data.strip('\\n').split(',')\n",
    "    for data_name, data_value in zip(col_name, data):\n",
    "        stu_info[data_name].append(data_value)\n",
    "#print\n",
    "print(stu_info)\n",
    "\n",
    "#\n",
    "for k, v in stu_info.items():\n",
    "    print('Field name: {}, Field value: {}'.format(k, ' '.join(v)))\n"
   ]
  },
  {
   "cell_type": "code",
   "execution_count": 40,
   "metadata": {},
   "outputs": [
    {
     "name": "stdout",
     "output_type": "stream",
     "text": [
      "{'姓名': ['Jack', 'Mike', 'Tom'], '班级': ['1A', '2A', '1A'], 'CCA': ['Drama', 'Basketball', '演讲'], 'Age': ['12', '11', '13']}\n",
      "Field name: 姓名, Field value: Jack Mike Tom\n",
      "Field name: 班级, Field value: 1A 2A 1A\n",
      "Field name: CCA, Field value: Drama Basketball 演讲\n",
      "Field name: Age, Field value: 12 11 13\n"
     ]
    }
   ],
   "source": [
    "#pass data into dictionary\n",
    "#key: column names, values: column data\n",
    "#e.g. '姓名': ['Jack', 'Mike', 'Tom']\n",
    "\n",
    "col_name = ln_tsv[0].strip('\\n').split('\\t')\n",
    "stu_info_tab = dict(map(lambda x:(x, []), col_name))\n",
    "#print(stu_info)\n",
    "\n",
    "#parse data \n",
    "for row_data in ln_tsv[1:]:\n",
    "    data = row_data.strip('\\n').split('\\t')\n",
    "    for data_name, data_value in zip(col_name, data):\n",
    "        stu_info_tab[data_name].append(data_value)\n",
    "#print\n",
    "print(stu_info_tab)\n",
    "\n",
    "#\n",
    "for k, v in stu_info_tab.items():\n",
    "    print('Field name: {}, Field value: {}'.format(k, ' '.join(v)))"
   ]
  },
  {
   "cell_type": "code",
   "execution_count": 12,
   "metadata": {},
   "outputs": [
    {
     "name": "stdout",
     "output_type": "stream",
     "text": [
      "[('a', 1), ('b', 2), ('c', 3)]\n"
     ]
    }
   ],
   "source": [
    "x1=['a','b','c']\n",
    "x2=[1,2,3]\n",
    "x3=zip(x1,x2)\n",
    "print(list(x3))"
   ]
  },
  {
   "cell_type": "code",
   "execution_count": 42,
   "metadata": {},
   "outputs": [],
   "source": [
    "#write dictionary data above to csv file with delimiter ;\n",
    "save_file = './write_csv_example.csv'\n",
    "with open(save_file, 'w', encoding = 'utf8') as o_fcsv:\n",
    "    #header string\n",
    "    new_header = map(lambda x:x + '_new', stu_info.keys())\n",
    "    s = ';'.join(new_header) + '\\n'\n",
    "    o_fcsv.write(s)\n",
    "    \n",
    "    #write data\n",
    "    for pos in range(len(stu_info['CCA'])): #for data value location in list\n",
    "        s_row = []\n",
    "        for ky in stu_info.keys():\n",
    "            s_row.append(stu_info[ky][pos])\n",
    "        s = ';'.join(s_row) + '\\n'\n",
    "        o_fcsv.write(s)"
   ]
  },
  {
   "cell_type": "code",
   "execution_count": 72,
   "metadata": {},
   "outputs": [
    {
     "name": "stdout",
     "output_type": "stream",
     "text": [
      "['姓名', '班级', 'CCA', 'Age']\n",
      "['Jack', '1A', 'Drama', '12']\n",
      "['Mike', '2A', 'Basketball', '11']\n",
      "['Tom', '1A', '演讲', '13']\n",
      "\n",
      "\n",
      "[['姓名', '班级', 'CCA', 'Age'], ['Jack', '1A', 'Drama', '12'], ['Mike', '2A', 'Basketball', '11'], ['Tom', '1A', '演讲', '13']]\n"
     ]
    }
   ],
   "source": [
    "import csv\n",
    "#read into list per row\n",
    "with open(file_name_tsv, 'r', encoding = 'utf8') as i_tsv:\n",
    "    stu_info2 = csv.reader(i_tsv, delimiter = '\\t')\n",
    "    stu_info2_list = []\n",
    "    for ln in stu_info2:\n",
    "        print('{}'.format(ln))\n",
    "        stu_info2_list.append(ln)\n",
    "    print('\\n\\n{}'.format(stu_info2_list))\n"
   ]
  },
  {
   "cell_type": "code",
   "execution_count": 68,
   "metadata": {},
   "outputs": [
    {
     "name": "stdout",
     "output_type": "stream",
     "text": [
      "OrderedDict([('姓名', 'Jack'), ('班级', '1A'), ('CCA', 'Drama'), ('Age', '12')])\n",
      "OrderedDict([('姓名', 'Mike'), ('班级', '2A'), ('CCA', 'Basketball'), ('Age', '11')])\n",
      "OrderedDict([('姓名', 'Tom'), ('班级', '1A'), ('CCA', '演讲'), ('Age', '13')])\n"
     ]
    }
   ],
   "source": [
    "import csv\n",
    "with open(file_name_tsv, 'r', encoding = 'utf8') as i_tsv:\n",
    "    #stu_info2 = csv.reader(i_tsv, delimiter = ',')\n",
    "    stu_info2 = csv.DictReader(i_tsv, delimiter = '\\t')\n",
    "    #print(stu_info2)\n",
    "    stu_info2_data = []\n",
    "    for ln in stu_info2:\n",
    "        print('{}'.format(ln))\n",
    "        stu_info2_data.append(ln)"
   ]
  },
  {
   "cell_type": "code",
   "execution_count": 62,
   "metadata": {},
   "outputs": [
    {
     "name": "stdout",
     "output_type": "stream",
     "text": [
      "OrderedDict([('姓名', 'Jack'), ('班级', '1A'), ('CCA', 'Drama'), ('Age', '12')])\n",
      "OrderedDict([('姓名', 'Mike'), ('班级', '2A'), ('CCA', 'Basketball'), ('Age', '11')])\n",
      "OrderedDict([('姓名', 'Tom'), ('班级', '1A'), ('CCA', '演讲'), ('Age', '13')])\n",
      "{'班级': '1A', 'Age': '10', 'CCA': 'basketball', '姓名': 'jackson'}\n"
     ]
    }
   ],
   "source": [
    "import csv\n",
    "save_file = './csvWriter_example.csv'\n",
    "with open(save_file, 'w', encoding = 'utf8') as o_fcsv:\n",
    "    #stu_info2 = csv.reader(i_tsv, delimiter = ',')\n",
    "    fieldnames = stu_info2_data[0].keys()\n",
    "    my_writer = csv.DictWriter(o_fcsv, fieldnames=fieldnames)\n",
    "\n",
    "    my_writer.writeheader()\n",
    "    for r_data in stu_info2_data:\n",
    "        print(r_data)\n",
    "        my_writer.writerow(r_data)\n",
    "    new_data1 = dict({('姓名', 'jackson'), ('班级', '1A'), ('CCA', 'basketball'), ('Age', '10')})\n",
    "    print(new_data1)\n",
    "    my_writer.writerow(new_data1)\n"
   ]
  },
  {
   "cell_type": "code",
   "execution_count": null,
   "metadata": {},
   "outputs": [],
   "source": []
  }
 ],
 "metadata": {
  "kernelspec": {
   "display_name": "Python 3",
   "language": "python",
   "name": "python3"
  },
  "language_info": {
   "codemirror_mode": {
    "name": "ipython",
    "version": 3
   },
   "file_extension": ".py",
   "mimetype": "text/x-python",
   "name": "python",
   "nbconvert_exporter": "python",
   "pygments_lexer": "ipython3",
   "version": "3.7.3"
  }
 },
 "nbformat": 4,
 "nbformat_minor": 2
}
