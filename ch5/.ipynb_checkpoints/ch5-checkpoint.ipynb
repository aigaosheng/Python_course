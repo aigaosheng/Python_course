{
 "cells": [
  {
   "cell_type": "code",
   "execution_count": 2,
   "metadata": {},
   "outputs": [],
   "source": [
    "file_name_csv = 'tsv_example.csv' #delimiter: comma\n",
    "file_name_tsv = 'tsv_example.tsv' #delimiter: tab"
   ]
  },
  {
   "cell_type": "code",
   "execution_count": 18,
   "metadata": {},
   "outputs": [
    {
     "name": "stdout",
     "output_type": "stream",
     "text": [
      "姓名,班级,CCA,Age\n",
      "\n",
      "Jack,1A,Drama,12\n",
      "\n",
      "Mike,2A,Basketball,11\n",
      "\n",
      "Tom,1A,演讲,13\n"
     ]
    }
   ],
   "source": [
    "#read data into list row-by-row\n",
    "ln_csv = []\n",
    "with open(file_name_csv, 'r', encoding = 'utf8') as i_csv:\n",
    "    for ln in i_csv:\n",
    "        print(ln)\n",
    "        ln_csv.append(ln)"
   ]
  },
  {
   "cell_type": "code",
   "execution_count": 19,
   "metadata": {},
   "outputs": [
    {
     "name": "stdout",
     "output_type": "stream",
     "text": [
      "姓名\t班级\tCCA\tAge\n",
      "\n",
      "Jack\t1A\tDrama\t12\n",
      "\n",
      "Mike\t2A\tBasketball\t11\n",
      "\n",
      "Tom\t1A\t演讲\t13\n"
     ]
    }
   ],
   "source": [
    "#read data into list row-by-row\n",
    "ln_tsv = []\n",
    "with open(file_name_tsv, 'r', encoding = 'utf8') as i_tsv:\n",
    "    for ln in i_tsv:\n",
    "        print(ln)\n",
    "        ln_tsv.append(ln)"
   ]
  },
  {
   "cell_type": "code",
   "execution_count": 20,
   "metadata": {},
   "outputs": [
    {
     "name": "stdout",
     "output_type": "stream",
     "text": [
      "\n",
      "comma delimiter: \n",
      "['姓名,班级,CCA,Age\\n', 'Jack,1A,Drama,12\\n', 'Mike,2A,Basketball,11\\n', 'Tom,1A,演讲,13']\n",
      "\n",
      "\n",
      "tab delimiter:\n",
      " ['姓名\\t班级\\tCCA\\tAge\\n', 'Jack\\t1A\\tDrama\\t12\\n', 'Mike\\t2A\\tBasketball\\t11\\n', 'Tom\\t1A\\t演讲\\t13']\n"
     ]
    }
   ],
   "source": [
    "#Find different format between comma & tab\n",
    "print('\\ncomma delimiter: \\n{}'.format(ln_csv))\n",
    "print('\\n\\ntab delimiter:\\n {}'.format(ln_tsv))"
   ]
  },
  {
   "cell_type": "code",
   "execution_count": 24,
   "metadata": {},
   "outputs": [],
   "source": [
    "#pass data into dictionary\n",
    "#key: column names, values: column data\n",
    "#e.g. '姓名': ['Jack', 'Mike', 'Tom']\n",
    "stu_info = dict(map(lambda x:(x, []), ln_csv[0].strip('\\n').split()))\n"
   ]
  },
  {
   "cell_type": "code",
   "execution_count": null,
   "metadata": {},
   "outputs": [],
   "source": []
  }
 ],
 "metadata": {
  "kernelspec": {
   "display_name": "Python 3",
   "language": "python",
   "name": "python3"
  },
  "language_info": {
   "codemirror_mode": {
    "name": "ipython",
    "version": 3
   },
   "file_extension": ".py",
   "mimetype": "text/x-python",
   "name": "python",
   "nbconvert_exporter": "python",
   "pygments_lexer": "ipython3",
   "version": "3.7.3"
  }
 },
 "nbformat": 4,
 "nbformat_minor": 2
}
