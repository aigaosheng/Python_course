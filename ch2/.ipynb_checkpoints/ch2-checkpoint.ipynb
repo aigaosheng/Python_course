{
 "cells": [
  {
   "cell_type": "code",
   "execution_count": 1,
   "metadata": {},
   "outputs": [
    {
     "name": "stdout",
     "output_type": "stream",
     "text": [
      "10\n",
      "10.0\n",
      "hello\n"
     ]
    }
   ],
   "source": [
    "x=10\n",
    "y=10.\n",
    "s=\"hello\"\n",
    "print(x)\n",
    "print(y)\n",
    "print(s)"
   ]
  },
  {
   "cell_type": "code",
   "execution_count": null,
   "metadata": {},
   "outputs": [],
   "source": []
  },
  {
   "cell_type": "code",
   "execution_count": 2,
   "metadata": {},
   "outputs": [],
   "source": [
    "la=[1,2,4,'hello']\n",
    "lb=()\n",
    "lc=tuple()"
   ]
  },
  {
   "cell_type": "code",
   "execution_count": 5,
   "metadata": {},
   "outputs": [
    {
     "name": "stdout",
     "output_type": "stream",
     "text": [
      "[1, 2, 4, 'hello']\n",
      "()\n",
      "True\n"
     ]
    }
   ],
   "source": [
    "print(la)\n",
    "print(lc)\n",
    "print(lb==lc)"
   ]
  },
  {
   "cell_type": "code",
   "execution_count": 6,
   "metadata": {},
   "outputs": [
    {
     "name": "stdout",
     "output_type": "stream",
     "text": [
      "{'gao': 'sheng', 1: 12}\n"
     ]
    }
   ],
   "source": [
    "ld={}\n",
    "ld1=dict()\n",
    "ld['gao']='sheng'\n",
    "ld[1]=12\n",
    "print(ld)"
   ]
  },
  {
   "cell_type": "code",
   "execution_count": 7,
   "metadata": {},
   "outputs": [
    {
     "name": "stdout",
     "output_type": "stream",
     "text": [
      "sheng\n"
     ]
    }
   ],
   "source": [
    "print(ld['gao'])\n"
   ]
  },
  {
   "cell_type": "code",
   "execution_count": 8,
   "metadata": {},
   "outputs": [
    {
     "ename": "KeyError",
     "evalue": "'sheng'",
     "output_type": "error",
     "traceback": [
      "\u001b[1;31m---------------------------------------------------------------------------\u001b[0m",
      "\u001b[1;31mKeyError\u001b[0m                                  Traceback (most recent call last)",
      "\u001b[1;32m<ipython-input-8-d332499c88a4>\u001b[0m in \u001b[0;36m<module>\u001b[1;34m\u001b[0m\n\u001b[1;32m----> 1\u001b[1;33m \u001b[0mld\u001b[0m\u001b[1;33m[\u001b[0m\u001b[1;34m'sheng'\u001b[0m\u001b[1;33m]\u001b[0m\u001b[1;33m\u001b[0m\u001b[1;33m\u001b[0m\u001b[0m\n\u001b[0m",
      "\u001b[1;31mKeyError\u001b[0m: 'sheng'"
     ]
    }
   ],
   "source": [
    "ld['sheng']"
   ]
  },
  {
   "cell_type": "code",
   "execution_count": 13,
   "metadata": {},
   "outputs": [
    {
     "name": "stdout",
     "output_type": "stream",
     "text": [
      "0\n",
      "1\n",
      "3\n",
      "8\n",
      "625\n",
      "1.44\n",
      "1.5774409656148782\n"
     ]
    }
   ],
   "source": [
    "print(10%2)\n",
    "print(10%3)\n",
    "print(10//3)\n",
    "print(2**3)\n",
    "print(25**2)\n",
    "print(1.2**2)\n",
    "print(1.2**2.5)"
   ]
  },
  {
   "cell_type": "code",
   "execution_count": 14,
   "metadata": {},
   "outputs": [
    {
     "name": "stdout",
     "output_type": "stream",
     "text": [
      "10\n",
      "12.0\n",
      "False\n",
      "True\n",
      "False\n"
     ]
    }
   ],
   "source": [
    "a=10\n",
    "b=12.\n",
    "c=a==b\n",
    "d=a!=b\n",
    "e=a>b\n",
    "print(a)\n",
    "print(b)\n",
    "print(c)\n",
    "print(d)\n",
    "print(e)"
   ]
  },
  {
   "cell_type": "code",
   "execution_count": 18,
   "metadata": {},
   "outputs": [
    {
     "name": "stdout",
     "output_type": "stream",
     "text": [
      "0\n",
      "1\n",
      "7\n"
     ]
    }
   ],
   "source": [
    "x=3\n",
    "y=4\n",
    "print(x&y)\n",
    "print(x&1)\n",
    "print(x|y)"
   ]
  },
  {
   "cell_type": "code",
   "execution_count": 19,
   "metadata": {},
   "outputs": [
    {
     "name": "stdout",
     "output_type": "stream",
     "text": [
      "True\n",
      "False\n",
      "False\n",
      "True\n",
      "False\n"
     ]
    }
   ],
   "source": [
    "a= True\n",
    "b=False\n",
    "c=a and b\n",
    "d=a or b\n",
    "e= not a\n",
    "print(a)\n",
    "print(b)\n",
    "print(c)\n",
    "print(d)\n",
    "print(e)"
   ]
  },
  {
   "cell_type": "code",
   "execution_count": 23,
   "metadata": {},
   "outputs": [
    {
     "name": "stdout",
     "output_type": "stream",
     "text": [
      "True\n"
     ]
    }
   ],
   "source": [
    "c0 = a and (not b)\n",
    "print(c0)"
   ]
  },
  {
   "cell_type": "code",
   "execution_count": 26,
   "metadata": {},
   "outputs": [
    {
     "name": "stdout",
     "output_type": "stream",
     "text": [
      "False\n",
      "True\n"
     ]
    }
   ],
   "source": [
    "s='hello hwa'\n",
    "s0='h' in s\n",
    "print('1' in s)\n",
    "print(s0)"
   ]
  },
  {
   "cell_type": "code",
   "execution_count": 28,
   "metadata": {},
   "outputs": [
    {
     "name": "stdout",
     "output_type": "stream",
     "text": [
      "True\n",
      "False\n",
      "True\n",
      "True\n"
     ]
    }
   ],
   "source": [
    "si=[1,2,3,'hello']\n",
    "print(1 in si)\n",
    "print('he' in si)\n",
    "print('hello' in si)\n",
    "print('he' not in si)"
   ]
  },
  {
   "cell_type": "code",
   "execution_count": 34,
   "metadata": {},
   "outputs": [
    {
     "name": "stdout",
     "output_type": "stream",
     "text": [
      "False\n",
      "True\n"
     ]
    }
   ],
   "source": [
    "a=2\n",
    "b=2.\n",
    "print(a is b)\n",
    "print(a is not 3)"
   ]
  },
  {
   "cell_type": "code",
   "execution_count": 42,
   "metadata": {},
   "outputs": [
    {
     "name": "stdout",
     "output_type": "stream",
     "text": [
      "1\n",
      "2\n",
      "3\n",
      "4\n",
      "5\n",
      "6\n",
      "7\n",
      "8\n",
      "9\n",
      "10\n",
      "----------\n",
      "1\n",
      "2\n",
      "3\n",
      "hello\n"
     ]
    }
   ],
   "source": [
    "for x in range(1,11):\n",
    "    print(x)\n",
    "a=[1,2,3,'hello']\n",
    "print('----------')\n",
    "for x0 in a:\n",
    "    y=x0\n",
    "    print(y)"
   ]
  },
  {
   "cell_type": "code",
   "execution_count": 51,
   "metadata": {},
   "outputs": [
    {
     "name": "stdout",
     "output_type": "stream",
     "text": [
      "9\n",
      "4\n",
      "-------- 0 -----\n",
      "h\n",
      "e\n",
      "l\n",
      "l\n",
      "o\n",
      " \n",
      "h\n",
      "w\n",
      "a\n",
      "-----1 -----\n",
      "h\n",
      "e\n",
      "l\n",
      "l\n",
      "o\n",
      " \n",
      "h\n",
      "w\n",
      "a\n",
      "----- 2 -----\n",
      "h\n",
      "e\n",
      "l\n",
      "l\n",
      "o\n",
      " \n",
      "h\n",
      "w\n",
      "a\n"
     ]
    }
   ],
   "source": [
    "s='hello hwa'\n",
    "print(len(s))\n",
    "print(len(a))\n",
    "print('-------- 0 -----')\n",
    "for x in s:\n",
    "    print(x)\n",
    "print('-----1 -----')\n",
    "count = 0\n",
    "while(count<len(s)):\n",
    "    print(s[count])\n",
    "    count+=1\n",
    "print('----- 2 -----')\n",
    "count = 0\n",
    "while(True):\n",
    "    print(s[count])\n",
    "    count+=1\n",
    "    if count>=len(s):\n",
    "        break\n",
    "    '''\n",
    "    else:\n",
    "        pass #continue\n",
    "    '''\n"
   ]
  },
  {
   "cell_type": "code",
   "execution_count": 57,
   "metadata": {},
   "outputs": [
    {
     "name": "stdout",
     "output_type": "stream",
     "text": [
      "Input value\n",
      "12\n",
      "15\n",
      "123\n"
     ]
    }
   ],
   "source": [
    "a=input('Input value\\n')\n",
    "print(int(a)+3)\n",
    "print(str(123))"
   ]
  },
  {
   "cell_type": "code",
   "execution_count": 2,
   "metadata": {},
   "outputs": [
    {
     "name": "stdout",
     "output_type": "stream",
     "text": [
      "input sentences:\n",
      "n that the latter tries to interpret the input given by the user;\n"
     ]
    },
    {
     "ename": "AttributeError",
     "evalue": "'Engine' object has no attribute 'RunandWait'",
     "output_type": "error",
     "traceback": [
      "\u001b[1;31m---------------------------------------------------------------------------\u001b[0m",
      "\u001b[1;31mAttributeError\u001b[0m                            Traceback (most recent call last)",
      "\u001b[1;32m<ipython-input-2-c45b355e78b3>\u001b[0m in \u001b[0;36m<module>\u001b[1;34m\u001b[0m\n\u001b[0;32m      7\u001b[0m \u001b[1;32mwhile\u001b[0m\u001b[1;33m(\u001b[0m\u001b[0mt\u001b[0m\u001b[1;33m==\u001b[0m\u001b[1;32mTrue\u001b[0m\u001b[1;33m)\u001b[0m\u001b[1;33m:\u001b[0m\u001b[1;33m\u001b[0m\u001b[1;33m\u001b[0m\u001b[0m\n\u001b[0;32m      8\u001b[0m     \u001b[0mengine\u001b[0m\u001b[1;33m.\u001b[0m\u001b[0msay\u001b[0m\u001b[1;33m(\u001b[0m\u001b[0msen\u001b[0m\u001b[1;33m)\u001b[0m\u001b[1;33m\u001b[0m\u001b[1;33m\u001b[0m\u001b[0m\n\u001b[1;32m----> 9\u001b[1;33m     \u001b[0mengine\u001b[0m\u001b[1;33m.\u001b[0m\u001b[0mRunandWait\u001b[0m\u001b[1;33m\u001b[0m\u001b[1;33m\u001b[0m\u001b[0m\n\u001b[0m\u001b[0;32m     10\u001b[0m     \u001b[0mstop\u001b[0m\u001b[1;33m=\u001b[0m\u001b[0minput\u001b[0m\u001b[1;33m(\u001b[0m\u001b[1;34m'stop:\\n'\u001b[0m\u001b[1;33m)\u001b[0m\u001b[1;33m\u001b[0m\u001b[1;33m\u001b[0m\u001b[0m\n\u001b[0;32m     11\u001b[0m     \u001b[1;32mif\u001b[0m\u001b[1;33m(\u001b[0m\u001b[0mstop\u001b[0m\u001b[1;33m==\u001b[0m\u001b[1;34m'Q'\u001b[0m\u001b[1;33m)\u001b[0m\u001b[1;33m:\u001b[0m\u001b[1;33m\u001b[0m\u001b[1;33m\u001b[0m\u001b[0m\n",
      "\u001b[1;31mAttributeError\u001b[0m: 'Engine' object has no attribute 'RunandWait'"
     ]
    }
   ],
   "source": [
    "import pyttsx3\n",
    "engine = pyttsx3.init()\n",
    "sen=input('input sentences:\\n')\n",
    "t=True\n",
    "l=(len(sen))\n",
    "\n",
    "while(t==True):\n",
    "    engine.say(sen)\n",
    "    engine.\n",
    "    stop=input('stop:\\n')\n",
    "    if(stop=='Q'):\n",
    "        break\n",
    "        t=False\n"
   ]
  },
  {
   "cell_type": "code",
   "execution_count": null,
   "metadata": {},
   "outputs": [],
   "source": []
  }
 ],
 "metadata": {
  "kernelspec": {
   "display_name": "Python 3",
   "language": "python",
   "name": "python3"
  }
 },
 "nbformat": 4,
 "nbformat_minor": 2
}
