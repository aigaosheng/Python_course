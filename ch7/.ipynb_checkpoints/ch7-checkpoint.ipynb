{
 "cells": [
  {
   "cell_type": "code",
   "execution_count": 13,
   "metadata": {},
   "outputs": [
    {
     "name": "stdout",
     "output_type": "stream",
     "text": [
      "321\n",
      "54321\n"
     ]
    }
   ],
   "source": [
    "s='123'\n",
    "print(s[::-1])\n",
    "dir(s)\n",
    "\n",
    "def reverse(i_int):\n",
    "    is_positive = True\n",
    "    if i_int<0:\n",
    "        i_int = -i_int\n",
    "        is_positive = False\n",
    "    o = int(str(i_int)[::-1])\n",
    "    if not is_positive:\n",
    "        o = -o\n",
    "    return o\n",
    "\n",
    "print(reverse(-12345))"
   ]
  }
 ],
 "metadata": {
  "kernelspec": {
   "display_name": "Python 3",
   "language": "python",
   "name": "python3"
  },
  "language_info": {
   "codemirror_mode": {
    "name": "ipython",
    "version": 3
   },
   "file_extension": ".py",
   "mimetype": "text/x-python",
   "name": "python",
   "nbconvert_exporter": "python",
   "pygments_lexer": "ipython3",
   "version": "3.7.3"
  }
 },
 "nbformat": 4,
 "nbformat_minor": 2
}
